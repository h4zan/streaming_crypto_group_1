{
 "cells": [
  {
   "cell_type": "markdown",
   "metadata": {},
   "source": [
    "## EDA"
   ]
  },
  {
   "cell_type": "code",
   "execution_count": 2,
   "metadata": {},
   "outputs": [
    {
     "data": {
      "text/plain": [
       "{'status': {'timestamp': '2025-02-14T14:00:07.281Z',\n",
       "  'error_code': 0,\n",
       "  'error_message': None,\n",
       "  'elapsed': 26,\n",
       "  'credit_count': 1,\n",
       "  'notice': None},\n",
       " 'data': {'ETH': {'id': 1027,\n",
       "   'name': 'Ethereum',\n",
       "   'symbol': 'ETH',\n",
       "   'slug': 'ethereum',\n",
       "   'num_market_pairs': 9931,\n",
       "   'date_added': '2015-08-07T00:00:00.000Z',\n",
       "   'tags': ['pos',\n",
       "    'smart-contracts',\n",
       "    'ethereum-ecosystem',\n",
       "    'coinbase-ventures-portfolio',\n",
       "    'three-arrows-capital-portfolio',\n",
       "    'polychain-capital-portfolio',\n",
       "    'heco-ecosystem',\n",
       "    'binance-labs-portfolio',\n",
       "    'solana-ecosystem',\n",
       "    'blockchain-capital-portfolio',\n",
       "    'boostvc-portfolio',\n",
       "    'cms-holdings-portfolio',\n",
       "    'dcg-portfolio',\n",
       "    'dragonfly-capital-portfolio',\n",
       "    'electric-capital-portfolio',\n",
       "    'fabric-ventures-portfolio',\n",
       "    'framework-ventures-portfolio',\n",
       "    'hashkey-capital-portfolio',\n",
       "    'kenetic-capital-portfolio',\n",
       "    'huobi-capital-portfolio',\n",
       "    'alameda-research-portfolio',\n",
       "    'a16z-portfolio',\n",
       "    '1confirmation-portfolio',\n",
       "    'winklevoss-capital-portfolio',\n",
       "    'usv-portfolio',\n",
       "    'placeholder-ventures-portfolio',\n",
       "    'pantera-capital-portfolio',\n",
       "    'multicoin-capital-portfolio',\n",
       "    'paradigm-portfolio',\n",
       "    'tezos-ecosystem',\n",
       "    'near-protocol-ecosystem',\n",
       "    'velas-ecosystem',\n",
       "    'ethereum-pow-ecosystem',\n",
       "    'osmosis-ecosystem',\n",
       "    'layer-1',\n",
       "    'ftx-bankruptcy-estate',\n",
       "    'zksync-era-ecosystem',\n",
       "    'viction-ecosystem',\n",
       "    'klaytn-ecosystem',\n",
       "    'sora-ecosystem',\n",
       "    'rsk-rbtc-ecosystem',\n",
       "    'starknet-ecosystem'],\n",
       "   'max_supply': None,\n",
       "   'circulating_supply': 120547760.01376195,\n",
       "   'total_supply': 120547760.01376195,\n",
       "   'is_active': 1,\n",
       "   'infinite_supply': True,\n",
       "   'platform': None,\n",
       "   'cmc_rank': 2,\n",
       "   'is_fiat': 0,\n",
       "   'self_reported_circulating_supply': None,\n",
       "   'self_reported_market_cap': None,\n",
       "   'tvl_ratio': None,\n",
       "   'last_updated': '2025-02-14T13:58:00.000Z',\n",
       "   'quote': {'SEK': {'price': 28952.302956449137,\n",
       "     'volume_24h': 183483809684.20618,\n",
       "     'volume_change_24h': -30.3453,\n",
       "     'percent_change_1h': 0.71337667,\n",
       "     'percent_change_24h': 1.53107493,\n",
       "     'percent_change_7d': -2.58750705,\n",
       "     'percent_change_30d': -17.96170016,\n",
       "     'percent_change_60d': -30.61949865,\n",
       "     'percent_change_90d': -14.74504061,\n",
       "     'market_cap': 3490135268639.761,\n",
       "     'market_cap_dominance': 10.113,\n",
       "     'fully_diluted_market_cap': 3490135268639.779,\n",
       "     'tvl': None,\n",
       "     'last_updated': '2025-02-14T13:59:01.000Z'}}}}}"
      ]
     },
     "execution_count": 2,
     "metadata": {},
     "output_type": "execute_result"
    }
   ],
   "source": [
    "from requests import Request, Session\n",
    "from requests.exceptions import ConnectionError, Timeout, TooManyRedirects\n",
    "import json\n",
    "import os \n",
    "from dotenv import load_dotenv\n",
    "\n",
    "load_dotenv()\n",
    "\n",
    "API_KEY = os.getenv(\"COINMARKET_API\")\n",
    "\n",
    "API_URL = \"https://pro-api.coinmarketcap.com/v1/cryptocurrency/quotes/latest\"\n",
    "\n",
    "listings = \"https://pro-api.coinmarketcap.com/v1/cryptocurrency/listings/latest\"\n",
    "\n",
    "crypto_symbol = \"ETH\"\n",
    "\n",
    "parameters = {\n",
    "  'symbol': crypto_symbol,\n",
    "  'convert':'SEK',\n",
    "  # 'start': '1',\n",
    "  # 'limit': '10'\n",
    "}\n",
    "\n",
    "headers = {\n",
    "  'Accepts': 'application/json',\n",
    "  'X-CMC_PRO_API_KEY': API_KEY,\n",
    "}\n",
    "\n",
    "session = Session()\n",
    "session.headers.update(headers)\n",
    "\n",
    "try:\n",
    "  response = session.get(API_URL, params=parameters)\n",
    "  coin_info = json.loads(response.text)\n",
    "except (ConnectionError, Timeout, TooManyRedirects) as e:\n",
    "  print(e)\n",
    "  \n",
    "# len(coin_info)\n",
    "coin_info \n",
    "\n"
   ]
  },
  {
   "cell_type": "code",
   "execution_count": 3,
   "metadata": {},
   "outputs": [
    {
     "data": {
      "text/plain": [
       "dict_keys(['status', 'data'])"
      ]
     },
     "execution_count": 3,
     "metadata": {},
     "output_type": "execute_result"
    }
   ],
   "source": [
    "coin_info.keys()"
   ]
  },
  {
   "cell_type": "code",
   "execution_count": 4,
   "metadata": {},
   "outputs": [
    {
     "data": {
      "text/plain": [
       "dict_keys(['ETH'])"
      ]
     },
     "execution_count": 4,
     "metadata": {},
     "output_type": "execute_result"
    }
   ],
   "source": [
    "coin_info['data'].keys()"
   ]
  },
  {
   "cell_type": "code",
   "execution_count": 5,
   "metadata": {},
   "outputs": [
    {
     "data": {
      "text/plain": [
       "dict_keys(['id', 'name', 'symbol', 'slug', 'num_market_pairs', 'date_added', 'tags', 'max_supply', 'circulating_supply', 'total_supply', 'is_active', 'infinite_supply', 'platform', 'cmc_rank', 'is_fiat', 'self_reported_circulating_supply', 'self_reported_market_cap', 'tvl_ratio', 'last_updated', 'quote'])"
      ]
     },
     "execution_count": 5,
     "metadata": {},
     "output_type": "execute_result"
    }
   ],
   "source": [
    "coin_data = coin_info[\"data\"][\"ETH\"]\n",
    "coin_data.keys()"
   ]
  },
  {
   "cell_type": "code",
   "execution_count": 6,
   "metadata": {},
   "outputs": [
    {
     "data": {
      "text/plain": [
       "('Ethereum',\n",
       " 'ETH',\n",
       " {'SEK': {'price': 28952.302956449137,\n",
       "   'volume_24h': 183483809684.20618,\n",
       "   'volume_change_24h': -30.3453,\n",
       "   'percent_change_1h': 0.71337667,\n",
       "   'percent_change_24h': 1.53107493,\n",
       "   'percent_change_7d': -2.58750705,\n",
       "   'percent_change_30d': -17.96170016,\n",
       "   'percent_change_60d': -30.61949865,\n",
       "   'percent_change_90d': -14.74504061,\n",
       "   'market_cap': 3490135268639.761,\n",
       "   'market_cap_dominance': 10.113,\n",
       "   'fully_diluted_market_cap': 3490135268639.779,\n",
       "   'tvl': None,\n",
       "   'last_updated': '2025-02-14T13:59:01.000Z'}})"
      ]
     },
     "execution_count": 6,
     "metadata": {},
     "output_type": "execute_result"
    }
   ],
   "source": [
    "coin_data[\"name\"], coin_data[\"symbol\"], coin_data[\"quote\"]"
   ]
  },
  {
   "cell_type": "code",
   "execution_count": 7,
   "metadata": {},
   "outputs": [
    {
     "data": {
      "text/plain": [
       "{'price': 28952.302956449137,\n",
       " 'volume_24h': 183483809684.20618,\n",
       " 'volume_change_24h': -30.3453,\n",
       " 'percent_change_1h': 0.71337667,\n",
       " 'percent_change_24h': 1.53107493,\n",
       " 'percent_change_7d': -2.58750705,\n",
       " 'percent_change_30d': -17.96170016,\n",
       " 'percent_change_60d': -30.61949865,\n",
       " 'percent_change_90d': -14.74504061,\n",
       " 'market_cap': 3490135268639.761,\n",
       " 'market_cap_dominance': 10.113,\n",
       " 'fully_diluted_market_cap': 3490135268639.779,\n",
       " 'tvl': None,\n",
       " 'last_updated': '2025-02-14T13:59:01.000Z'}"
      ]
     },
     "execution_count": 7,
     "metadata": {},
     "output_type": "execute_result"
    }
   ],
   "source": [
    "eth_data = coin_data[\"quote\"][\"SEK\"]\n",
    "eth_data"
   ]
  },
  {
   "cell_type": "code",
   "execution_count": 8,
   "metadata": {},
   "outputs": [
    {
     "data": {
      "text/plain": [
       "(28952.302956449137, 183483809684.20618, '2025-02-14T13:59:01.000Z')"
      ]
     },
     "execution_count": 8,
     "metadata": {},
     "output_type": "execute_result"
    }
   ],
   "source": [
    "eth = eth_data[\"price\"], eth_data[\"volume_24h\"], eth_data[\"last_updated\"]\n",
    "eth"
   ]
  }
 ],
 "metadata": {
  "kernelspec": {
   "display_name": ".venv",
   "language": "python",
   "name": "python3"
  },
  "language_info": {
   "codemirror_mode": {
    "name": "ipython",
    "version": 3
   },
   "file_extension": ".py",
   "mimetype": "text/x-python",
   "name": "python",
   "nbconvert_exporter": "python",
   "pygments_lexer": "ipython3",
   "version": "3.12.5"
  }
 },
 "nbformat": 4,
 "nbformat_minor": 2
}
