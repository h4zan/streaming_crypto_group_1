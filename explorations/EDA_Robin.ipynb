{
 "cells": [
  {
   "cell_type": "markdown",
   "metadata": {},
   "source": [
    "## EDA"
   ]
  },
  {
   "cell_type": "code",
   "execution_count": 45,
   "metadata": {},
   "outputs": [
    {
     "name": "stdout",
     "output_type": "stream",
     "text": [
      "  symbol         price    market_cap    volume_24h  percent_change_1h  \\\n",
      "0    BTC  95379.739847  1.891200e+12  1.582763e+10          -0.106778   \n",
      "1    ETH   2814.349861  3.393231e+11  1.753351e+10           0.516053   \n",
      "2    XRP      2.550024  1.476153e+11  2.451072e+09           0.792812   \n",
      "\n",
      "   percent_change_24h  percent_change_7d  percent_change_30d  \\\n",
      "0           -1.228148          -1.794860          -10.247176   \n",
      "1            1.134156           4.302259          -17.085038   \n",
      "2           -1.516605          -6.840409          -19.131954   \n",
      "\n",
      "               last_updated  \n",
      "0  2025-02-23T17:22:00.000Z  \n",
      "1  2025-02-23T17:22:00.000Z  \n",
      "2  2025-02-23T17:22:00.000Z  \n"
     ]
    }
   ],
   "source": [
    "import requests\n",
    "import pandas as pd\n",
    "import os \n",
    "from dotenv import load_dotenv\n",
    "\n",
    "load_dotenv()\n",
    "\n",
    "API_KEY = os.getenv(\"COINMARKET_API\")\n",
    "\n",
    "API_URL = \"https://pro-api.coinmarketcap.com/v1/cryptocurrency/quotes/latest\"\n",
    "\n",
    "headers = {\n",
    "    \"Accepts\": \"application/json\",\n",
    "    \"X-CMC_PRO_API_KEY\": API_KEY,\n",
    "}\n",
    "\n",
    "params = {\"symbol\": \"BTC,ETH,XRP\"}\n",
    "\n",
    "response = requests.get(API_URL, headers=headers, params=params)\n",
    "data = response.json()\n",
    "\n",
    "crypto_data = []\n",
    "for key, value in data[\"data\"].items():\n",
    "    usd_data = value[\"quote\"][\"USD\"]\n",
    "    crypto_data.append({\n",
    "        \"symbol\": value[\"symbol\"],\n",
    "        \"price\": usd_data[\"price\"],\n",
    "        \"market_cap\": usd_data[\"market_cap\"],\n",
    "        \"volume_24h\": usd_data[\"volume_24h\"],\n",
    "        \"percent_change_1h\": usd_data[\"percent_change_1h\"],\n",
    "        \"percent_change_24h\": usd_data[\"percent_change_24h\"],\n",
    "        \"percent_change_7d\": usd_data[\"percent_change_7d\"],\n",
    "        \"percent_change_30d\": usd_data.get(\"percent_change_30d\", None),\n",
    "        \"last_updated\": usd_data[\"last_updated\"]\n",
    "    })\n",
    "\n",
    "df = pd.DataFrame(crypto_data)\n",
    "print(df.head())"
   ]
  },
  {
   "cell_type": "code",
   "execution_count": 46,
   "metadata": {},
   "outputs": [
    {
     "name": "stdout",
     "output_type": "stream",
     "text": [
      "              price    market_cap    volume_24h  percent_change_1h  \\\n",
      "count      3.000000  3.000000e+00  3.000000e+00           3.000000   \n",
      "mean   32732.213244  7.927128e+11  1.193740e+10           0.400696   \n",
      "std    54272.562098  9.561346e+11  8.259563e+09           0.460756   \n",
      "min        2.550024  1.476153e+11  2.451072e+09          -0.106778   \n",
      "25%     1408.449943  2.434692e+11  9.139351e+09           0.204638   \n",
      "50%     2814.349861  3.393231e+11  1.582763e+10           0.516053   \n",
      "75%    49097.044854  1.115261e+12  1.668057e+10           0.654433   \n",
      "max    95379.739847  1.891200e+12  1.753351e+10           0.792812   \n",
      "\n",
      "       percent_change_24h  percent_change_7d  percent_change_30d  \n",
      "count            3.000000           3.000000            3.000000  \n",
      "mean            -0.536866          -1.444337          -15.488056  \n",
      "std              1.454317           5.579598            4.652697  \n",
      "min             -1.516605          -6.840409          -19.131954  \n",
      "25%             -1.372377          -4.317635          -18.108496  \n",
      "50%             -1.228148          -1.794860          -17.085038  \n",
      "75%             -0.046996           1.253699          -13.666107  \n",
      "max              1.134156           4.302259          -10.247176  \n"
     ]
    }
   ],
   "source": [
    "print(df.describe())"
   ]
  },
  {
   "cell_type": "code",
   "execution_count": 47,
   "metadata": {},
   "outputs": [
    {
     "name": "stdout",
     "output_type": "stream",
     "text": [
      "Top 5 Gainers 24h:\n",
      "  symbol         price    market_cap    volume_24h  percent_change_1h  \\\n",
      "1    ETH   2814.349861  3.393231e+11  1.753351e+10           0.516053   \n",
      "0    BTC  95379.739847  1.891200e+12  1.582763e+10          -0.106778   \n",
      "2    XRP      2.550024  1.476153e+11  2.451072e+09           0.792812   \n",
      "\n",
      "   percent_change_24h  percent_change_7d  percent_change_30d  \\\n",
      "1            1.134156           4.302259          -17.085038   \n",
      "0           -1.228148          -1.794860          -10.247176   \n",
      "2           -1.516605          -6.840409          -19.131954   \n",
      "\n",
      "               last_updated  \n",
      "1  2025-02-23T17:22:00.000Z  \n",
      "0  2025-02-23T17:22:00.000Z  \n",
      "2  2025-02-23T17:22:00.000Z  \n",
      "--------------------------------------------------\n",
      "Top 5 Losers 24h:\n",
      "  symbol         price    market_cap    volume_24h  percent_change_1h  \\\n",
      "2    XRP      2.550024  1.476153e+11  2.451072e+09           0.792812   \n",
      "0    BTC  95379.739847  1.891200e+12  1.582763e+10          -0.106778   \n",
      "1    ETH   2814.349861  3.393231e+11  1.753351e+10           0.516053   \n",
      "\n",
      "   percent_change_24h  percent_change_7d  percent_change_30d  \\\n",
      "2           -1.516605          -6.840409          -19.131954   \n",
      "0           -1.228148          -1.794860          -10.247176   \n",
      "1            1.134156           4.302259          -17.085038   \n",
      "\n",
      "               last_updated  \n",
      "2  2025-02-23T17:22:00.000Z  \n",
      "0  2025-02-23T17:22:00.000Z  \n",
      "1  2025-02-23T17:22:00.000Z  \n"
     ]
    }
   ],
   "source": [
    "top_gainers = df.nlargest(5, \"percent_change_24h\").sort_values(by=\"percent_change_24h\", ascending=False)\n",
    "top_losers = df.nsmallest(5, \"percent_change_24h\").sort_values(by=\"percent_change_24h\", ascending=True)\n",
    "\n",
    "print(\"Top 5 Gainers 24h:\")\n",
    "print(top_gainers)\n",
    "print(\"-\"*50)\n",
    "print(\"Top 5 Losers 24h:\")\n",
    "print(top_losers)"
   ]
  }
 ],
 "metadata": {
  "kernelspec": {
   "display_name": ".venv",
   "language": "python",
   "name": "python3"
  },
  "language_info": {
   "codemirror_mode": {
    "name": "ipython",
    "version": 3
   },
   "file_extension": ".py",
   "mimetype": "text/x-python",
   "name": "python",
   "nbconvert_exporter": "python",
   "pygments_lexer": "ipython3",
   "version": "3.12.8"
  }
 },
 "nbformat": 4,
 "nbformat_minor": 2
}
